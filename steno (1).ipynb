{
 "cells": [
  {
   "cell_type": "code",
   "execution_count": 1,
   "id": "172ffeb8-29a1-497d-a0d9-3d6e65477af5",
   "metadata": {},
   "outputs": [
    {
     "name": "stdout",
     "output_type": "stream",
     "text": [
      "Requirement already satisfied: pillow in d:\\anaconda\\lib\\site-packages (10.3.0)\n",
      "Requirement already satisfied: numpy in d:\\anaconda\\lib\\site-packages (1.26.4)\n",
      "Note: you may need to restart the kernel to use updated packages.\n"
     ]
    }
   ],
   "source": [
    "pip install pillow numpy\n"
   ]
  },
  {
   "cell_type": "code",
   "execution_count": 1,
   "id": "22579e65-4c0a-4ae0-8231-5c5812273150",
   "metadata": {},
   "outputs": [],
   "source": [
    "from PIL import Image\n",
    "import numpy as np\n",
    "\n",
    "# Convert message to binary\n",
    "def message_to_binary(message):\n",
    "    return ''.join(format(ord(char), '08b') for char in message)\n",
    "\n",
    "# Convert binary to message\n",
    "def binary_to_message(binary):\n",
    "    chars = [binary[i:i+8] for i in range(0, len(binary), 8)]\n",
    "    return ''.join([chr(int(char, 2)) for char in chars])"
   ]
  },
  {
   "cell_type": "code",
   "execution_count": 2,
   "id": "ec954006-5528-46b7-8c18-b9e8590437fa",
   "metadata": {},
   "outputs": [],
   "source": [
    "# Hide the message in the image\n",
    "def hide_message(image_path, secret_message, output_path=\"stego_image.png\"):\n",
    "    # Add a delimiter to detect end of message\n",
    "    secret_message += \"####\"\n",
    "    binary_message = message_to_binary(secret_message)\n",
    "\n",
    "    img = Image.open(image_path)\n",
    "    img = img.convert(\"RGB\")\n",
    "    data = np.array(img)\n",
    "\n",
    "    flat_data = data.flatten()\n",
    "\n",
    "    if len(binary_message) > len(flat_data):\n",
    "        raise ValueError(\"Message is too long to hide in this image.\")\n",
    "\n",
    "    # Modify the LSB of each color value\n",
    "    for i in range(len(binary_message)):\n",
    "        flat_data[i] = (flat_data[i] & ~1) | int(binary_message[i])\n",
    "\n",
    "    # Reshape and save the new image\n",
    "    modified_data = flat_data.reshape(data.shape)\n",
    "    new_img = Image.fromarray(modified_data.astype('uint8'), 'RGB')\n",
    "    new_img.save(output_path)\n",
    "    print(f\"Message successfully hidden in {output_path}\")"
   ]
  },
  {
   "cell_type": "code",
   "execution_count": 3,
   "id": "0752d4e2-c5f8-4c4b-a765-d42cf7b3831f",
   "metadata": {},
   "outputs": [],
   "source": [
    "# Extract the hidden message from the image\n",
    "def extract_message(image_path):\n",
    "    img = Image.open(image_path)\n",
    "    img = img.convert(\"RGB\")\n",
    "    data = np.array(img)\n",
    "    flat_data = data.flatten()\n",
    "\n",
    "    binary_message = \"\"\n",
    "    for value in flat_data:\n",
    "        binary_message += str(value & 1)\n",
    "\n",
    "    # Split binary into 8-bit chunks\n",
    "    chars = [binary_message[i:i+8] for i in range(0, len(binary_message), 8)]\n",
    "    message = \"\"\n",
    "    for char in chars:\n",
    "        decoded_char = chr(int(char, 2))\n",
    "        message += decoded_char\n",
    "        if message.endswith(\"####\"):\n",
    "            break\n",
    "\n",
    "    return message[:-4]"
   ]
  },
  {
   "cell_type": "code",
   "execution_count": null,
   "id": "cef6bb79-94a7-482b-ad1f-dc91e85019c2",
   "metadata": {},
   "outputs": [
    {
     "name": "stdout",
     "output_type": "stream",
     "text": [
      "\n",
      "1. Hide a message in image\n",
      "2. Extract a message from image\n"
     ]
    },
    {
     "name": "stdin",
     "output_type": "stream",
     "text": [
      "Enter your choice (1 or 2):  2\n"
     ]
    }
   ],
   "source": [
    "if __name__ == \"__main__\":\n",
    "    print(\"\\n1. Hide a message in image\")\n",
    "    print(\"2. Extract a message from image\")\n",
    "    choice = input(\"Enter your choice (1 or 2): \").strip()\n",
    "\n",
    "    if choice == \"1\":\n",
    "        input_image = input(\"Enter input image path (e.g., input_image.png): \").strip()\n",
    "        secret = input(\"Enter your secret message: \").strip()\n",
    "        output_image = input(\"Enter output image path (e.g., stego.png): \").strip()\n",
    "        hide_message(input_image, secret, output_image)\n",
    "\n",
    "    elif choice == \"2\":\n",
    "        stego_image = input(\"Enter stego image path: \").strip()\n",
    "        hidden_text = extract_message(stego_image)\n",
    "        print(\"\\nHidden message extracted:\\n\", hidden_text)\n",
    "\n",
    "    else:\n",
    "        print(\"Invalid choice. Please enter 1 or 2.\")\n"
   ]
  },
  {
   "cell_type": "code",
   "execution_count": null,
   "id": "14f13e3f-9d06-48f6-9497-000ec861445d",
   "metadata": {},
   "outputs": [],
   "source": []
  }
 ],
 "metadata": {
  "kernelspec": {
   "display_name": "Python 3 (ipykernel)",
   "language": "python",
   "name": "python3"
  },
  "language_info": {
   "codemirror_mode": {
    "name": "ipython",
    "version": 3
   },
   "file_extension": ".py",
   "mimetype": "text/x-python",
   "name": "python",
   "nbconvert_exporter": "python",
   "pygments_lexer": "ipython3",
   "version": "3.12.4"
  }
 },
 "nbformat": 4,
 "nbformat_minor": 5
}
